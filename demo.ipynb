{
 "cells": [
  {
   "cell_type": "markdown",
   "metadata": {},
   "source": [
    "# import and redefine some constant variables"
   ]
  },
  {
   "cell_type": "code",
   "execution_count": 9,
   "metadata": {},
   "outputs": [
    {
     "data": {
      "text/plain": "<Figure size 6000x6000 with 0 Axes>"
     },
     "metadata": {},
     "output_type": "display_data"
    }
   ],
   "source": [
    "import json\n",
    "import pandas as pd\n",
    "import matplotlib.pyplot as plt\n",
    "import numpy as np\n",
    "import random\n",
    "import requests\n",
    "\n",
    "# Define a list of colormaps\n",
    "colormaps = [\n",
    "    'viridis', 'plasma', 'inferno', 'magma', 'cividis',\n",
    "    'gray', 'jet', 'rainbow', 'cool', 'hot', 'nipy_spectral',\n",
    "    'autumn', 'coolwarm', 'copper'\n",
    "]\n",
    "\n",
    "# Define a list of interpolation methods\n",
    "interpolations = ['antialiased', 'none', 'nearest', 'bilinear', 'bicubic', 'spline16', 'spline36', 'hanning', 'hamming',\n",
    "                  'hermite', 'kaiser', 'quadric', 'catrom', 'gaussian', 'bessel', 'mitchell', 'sinc', 'lanczos',\n",
    "                  'blackman']\n",
    "\n",
    "# Create subplots for each colormap\n",
    "plt.figure(figsize=(60, 60))\n",
    "num_cols = 4\n",
    "num_rows = int(np.ceil(len(colormaps) / num_cols))"
   ]
  },
  {
   "cell_type": "code",
   "execution_count": 10,
   "metadata": {},
   "outputs": [],
   "source": [
    "API_URL = \"https://iqf1uezcub.execute-api.us-east-1.amazonaws.com/stage/run_a1_shadow_analysis\"\n",
    "# API_URL = \"http://localhost:56789/run_a1_shadow_analysis\""
   ]
  },
  {
   "cell_type": "markdown",
   "metadata": {},
   "source": [
    "# send api resquest and get response"
   ]
  },
  {
   "cell_type": "code",
   "execution_count": null,
   "metadata": {
    "is_executing": true
   },
   "outputs": [],
   "source": [
    "# Send a GET request\n",
    "response = requests.get(API_URL)\n",
    "ShadowMatrix_DataFrame = None\n",
    "TimeStamp = None\n",
    "\n",
    "# Check the response status code\n",
    "if response.status_code == 200:\n",
    "    print(\"Request was successful!\")\n",
    "    json_data = response.json()\n",
    "    print('Message: ', json_data[\"Message\"])\n",
    "    TimeStamp = json_data[\"Timestamp\"]\n",
    "    print('UTC Timestamp: ', TimeStamp)\n",
    "    ShadowMatrix = json.loads(json_data['ShadowMatrix'])\n",
    "    ShadowMatrix_DataFrame = pd.DataFrame(ShadowMatrix)\n",
    "    print('ShadowMatrix_DataFrame: ', ShadowMatrix_DataFrame.shape)\n",
    "else:\n",
    "    print(f\"Request failed with status code: {response.status_code}\")"
   ]
  },
  {
   "cell_type": "markdown",
   "metadata": {},
   "source": [
    "# visualization"
   ]
  },
  {
   "cell_type": "code",
   "execution_count": null,
   "metadata": {
    "is_executing": true
   },
   "outputs": [],
   "source": [
    "plt.imshow(ShadowMatrix_DataFrame, cmap='viridis', interpolation='nearest')\n",
    "plt.colorbar() # Add color bar for reference\n",
    "plt.axis(\"off\")\n",
    "plt.title(\"Shadow Matrix Visualization \\nTime (CT): \" + TimeStamp)\n",
    "plt.show()"
   ]
  },
  {
   "cell_type": "code",
   "execution_count": null,
   "metadata": {
    "collapsed": false,
    "is_executing": true
   },
   "outputs": [],
   "source": [
    "# Effectively visualize them use many colormaps and interpolations\n",
    "for i, cmap in enumerate(colormaps):\n",
    "    plt.subplot(num_rows, num_cols, i + 1)\n",
    "    plt.imshow(ShadowMatrix_DataFrame, interpolation=random.choice(interpolations), cmap=cmap)\n",
    "    plt.axis('off')\n",
    "\n",
    "plt.tight_layout()\n",
    "plt.show()"
   ]
  }
 ],
 "metadata": {
  "kernelspec": {
   "display_name": "Python 3 (ipykernel)",
   "language": "python",
   "name": "python3"
  },
  "language_info": {
   "codemirror_mode": {
    "name": "ipython",
    "version": 3
   },
   "file_extension": ".py",
   "mimetype": "text/x-python",
   "name": "python",
   "nbconvert_exporter": "python",
   "pygments_lexer": "ipython3",
   "version": "3.9.6"
  }
 },
 "nbformat": 4,
 "nbformat_minor": 1
}
